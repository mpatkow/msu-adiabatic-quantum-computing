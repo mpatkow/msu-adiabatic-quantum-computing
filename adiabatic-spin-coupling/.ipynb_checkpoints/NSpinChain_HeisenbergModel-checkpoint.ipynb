{
 "cells": [
  {
   "cell_type": "markdown",
   "metadata": {},
   "source": [
    "# My version of the N-Spin Hamiltonian:"
   ]
  },
  {
   "cell_type": "code",
   "execution_count": 1,
   "metadata": {},
   "outputs": [],
   "source": [
    "import numpy as np\n",
    "import matplotlib.pyplot as plt\n",
    "import scipy.ndimage as scipy\n",
    "import numpy.random as random\n",
    "import sympy as sym\n",
    "import random"
   ]
  },
  {
   "cell_type": "code",
   "execution_count": 2,
   "metadata": {},
   "outputs": [],
   "source": [
    "X=np.array([[0,1],[1,0]])\n",
    "Y=np.array([[0,-1j],[1j,0]])\n",
    "Z=np.array([[1,0],[0,-1]])\n",
    "I=np.array([[1,0],[0,1]])\n",
    "\n",
    "up = np.array([[1], [0]])\n",
    "down = np.array([[0], [1]])"
   ]
  },
  {
   "cell_type": "code",
   "execution_count": 16,
   "metadata": {},
   "outputs": [],
   "source": [
    "def getSpinInteraction(N, matrix):\n",
    "    for i in range(N-1):\n",
    "        interaction_term = np.zeros((2**N, 2**N), dtype=np.complex128)\n",
    "        for j in range(N-1):\n",
    "            term = np.kron(np.eye(2**j), np.kron(matrix, matrix))\n",
    "            term = np.kron(term, np.eye(2**(N-j-2)))\n",
    "            interaction_term += term\n",
    "\n",
    "    return interaction_term\n",
    "\n",
    "def getSpinInteraction(N, matrix):\n",
    "    interaction_term = np.zeros((2**N, 2**N), dtype=np.complex128)\n",
    "    for i in range(N-1):\n",
    "        for j in range(N-1):\n",
    "            term = np.kron(np.eye(2**j), np.kron(matrix, matrix))\n",
    "            term = np.kron(term, np.eye(2**(N-j-2)))\n",
    "            interaction_term += term\n",
    "\n",
    "    return interaction_term\n",
    "\n",
    "def getMagnField(N):\n",
    "    for i in range(N):\n",
    "        interaction_term = np.zeros((2**N, 2**N), dtype=np.complex128)\n",
    "        for j in range(N):\n",
    "            term = np.kron(np.eye(2**j), Z)\n",
    "            term = np.kron(term, np.eye(2**(N-j-1)))\n",
    "            interaction_term += term\n",
    "\n",
    "    return interaction_term"
   ]
  },
  {
   "cell_type": "code",
   "execution_count": 24,
   "metadata": {},
   "outputs": [],
   "source": [
    "def getSpinInteraction(N, matrix):\n",
    "    interaction_term = np.zeros((2**N, 2**N), dtype=np.complex128)\n",
    "    for i in range(N-1):\n",
    "        term = np.eye(1, dtype=np.complex128)  # Initialize term for each pair\n",
    "        for j in range(N):\n",
    "            if j == i or j == i + 1:\n",
    "                term = np.kron(term, matrix)\n",
    "            else:\n",
    "                term = np.kron(term, I)\n",
    "        interaction_term += term  # Accumulate the interaction term\n",
    "    return interaction_term\n",
    "\n",
    "def getMagnField(N):\n",
    "    interaction_term = np.zeros((2**N, 2**N), dtype=np.complex128)\n",
    "    for i in range(N):\n",
    "        term = np.eye(1, dtype=np.complex128)  # Initialize term for each site\n",
    "        for j in range(N):\n",
    "            if j == i:\n",
    "                term = np.kron(term, Z)\n",
    "            else:\n",
    "                term = np.kron(term, I)\n",
    "        interaction_term += term  # Accumulate the magnetic field term\n",
    "    return interaction_term\n",
    "\n"
   ]
  },
  {
   "cell_type": "code",
   "execution_count": 25,
   "metadata": {},
   "outputs": [
    {
     "data": {
      "text/plain": [
       "(32, 32)"
      ]
     },
     "execution_count": 25,
     "metadata": {},
     "output_type": "execute_result"
    }
   ],
   "source": [
    "N = 5\n",
    "    \n",
    "x_inter = getSpinInteraction(N, X)\n",
    "y_inter = getSpinInteraction(N, Y)\n",
    "z_inter = getSpinInteraction(N, Z)\n",
    "magn = getMagnField(N)\n",
    "\n",
    "cxx = 0.2 * np.pi\n",
    "cyy = 0.2 * np.pi\n",
    "czz = 0.2 * np.pi\n",
    "hz = 2 * np.pi\n",
    "\n",
    "hamiltonian = (1/2) * ((cxx*x_inter) +(cyy*y_inter) + (czz*z_inter) + (hz*magn))\n",
    "    \n",
    "np.shape(hamiltonian)"
   ]
  },
  {
   "cell_type": "code",
   "execution_count": 26,
   "metadata": {},
   "outputs": [
    {
     "data": {
      "text/plain": [
       "array([[ 16.96460033+0.j,   0.        +0.j,   0.        +0.j, ...,\n",
       "          0.        +0.j,   0.        +0.j,   0.        +0.j],\n",
       "       [  0.        +0.j,  10.05309649+0.j,   0.62831853+0.j, ...,\n",
       "          0.        +0.j,   0.        +0.j,   0.        +0.j],\n",
       "       [  0.        +0.j,   0.62831853+0.j,   9.42477796+0.j, ...,\n",
       "          0.        +0.j,   0.        +0.j,   0.        +0.j],\n",
       "       ...,\n",
       "       [  0.        +0.j,   0.        +0.j,   0.        +0.j, ...,\n",
       "         -9.42477796+0.j,   0.62831853+0.j,   0.        +0.j],\n",
       "       [  0.        +0.j,   0.        +0.j,   0.        +0.j, ...,\n",
       "          0.62831853+0.j,  -8.79645943+0.j,   0.        +0.j],\n",
       "       [  0.        +0.j,   0.        +0.j,   0.        +0.j, ...,\n",
       "          0.        +0.j,   0.        +0.j, -14.45132621+0.j]])"
      ]
     },
     "execution_count": 26,
     "metadata": {},
     "output_type": "execute_result"
    }
   ],
   "source": [
    "hamiltonian"
   ]
  },
  {
   "cell_type": "code",
   "execution_count": 27,
   "metadata": {},
   "outputs": [],
   "source": [
    "eigenvalues = np.linalg.eigvals(hamiltonian)"
   ]
  },
  {
   "cell_type": "code",
   "execution_count": 28,
   "metadata": {},
   "outputs": [
    {
     "data": {
      "text/plain": [
       "(32,)"
      ]
     },
     "execution_count": 28,
     "metadata": {},
     "output_type": "execute_result"
    }
   ],
   "source": [
    "np.shape(eigenvalues)"
   ]
  },
  {
   "cell_type": "code",
   "execution_count": 29,
   "metadata": {},
   "outputs": [
    {
     "data": {
      "text/plain": [
       "array([-14.45132621+0.j, -10.4414187 +0.j,  -9.81310017+0.j,\n",
       "        -9.03645575+0.j,  -8.40813722+0.j,  -8.1681409 +0.j,\n",
       "        -5.56424597+0.j,  -4.65848777+0.j,  -4.15823339+0.j,\n",
       "        -3.97200178+0.j,  -3.52991486+0.j,  -2.8813346 +0.j,\n",
       "        -2.75327045+0.j,  -2.40180433+0.j,  -2.12495192+0.j,\n",
       "        -1.88495559+0.j,   0.71893934+0.j,   1.62469754+0.j,\n",
       "         2.12495192+0.j,   2.31118353+0.j,   2.75327045+0.j,\n",
       "         3.40185071+0.j,   3.52991486+0.j,   3.88138097+0.j,\n",
       "         4.15823339+0.j,   4.39822972+0.j,   8.40813722+0.j,\n",
       "         9.03645575+0.j,   9.81310017+0.j,  10.4414187 +0.j,\n",
       "        10.68141502+0.j,  16.96460033+0.j])"
      ]
     },
     "execution_count": 29,
     "metadata": {},
     "output_type": "execute_result"
    }
   ],
   "source": [
    "np.sort(eigenvalues)"
   ]
  },
  {
   "cell_type": "code",
   "execution_count": 30,
   "metadata": {},
   "outputs": [],
   "source": [
    "# Convert to sympy Matrix for easy display\n",
    "sympy_hamiltonian = sym.Matrix(hamiltonian)"
   ]
  },
  {
   "cell_type": "code",
   "execution_count": 31,
   "metadata": {},
   "outputs": [
    {
     "data": {
      "text/latex": [
       "$\\displaystyle \\left[\\begin{matrix}16.9646003293849 & 0 & 0 & 0 & 0\\\\0 & 10.0530964914873 & 0.628318530717959 & 0 & 0\\\\0 & 0.628318530717959 & 9.42477796076938 & 0 & 0.628318530717959\\\\0 & 0 & 0 & 3.76991118430775 & 0\\\\0 & 0 & 0.628318530717959 & 0 & 9.42477796076938\\end{matrix}\\right]$"
      ],
      "text/plain": [
       "Matrix([\n",
       "[16.9646003293849,                 0,                 0,                0,                 0],\n",
       "[               0,  10.0530964914873, 0.628318530717959,                0,                 0],\n",
       "[               0, 0.628318530717959,  9.42477796076938,                0, 0.628318530717959],\n",
       "[               0,                 0,                 0, 3.76991118430775,                 0],\n",
       "[               0,                 0, 0.628318530717959,                0,  9.42477796076938]])"
      ]
     },
     "execution_count": 31,
     "metadata": {},
     "output_type": "execute_result"
    }
   ],
   "source": [
    "sympy_hamiltonian[:5, :5]"
   ]
  },
  {
   "cell_type": "code",
   "execution_count": 32,
   "metadata": {},
   "outputs": [
    {
     "data": {
      "text/latex": [
       "$\\displaystyle \\left[\\begin{matrix}-9.42477796076938 & 0 & 0.628318530717959 & 0 & 0\\\\0 & -2.51327412287183 & 0 & 0 & 0\\\\0.628318530717959 & 0 & -9.42477796076938 & 0.628318530717959 & 0\\\\0 & 0 & 0.628318530717959 & -8.79645943005142 & 0\\\\0 & 0 & 0 & 0 & -14.451326206513\\end{matrix}\\right]$"
      ],
      "text/plain": [
       "Matrix([\n",
       "[-9.42477796076938,                 0, 0.628318530717959,                 0,                0],\n",
       "[                0, -2.51327412287183,                 0,                 0,                0],\n",
       "[0.628318530717959,                 0, -9.42477796076938, 0.628318530717959,                0],\n",
       "[                0,                 0, 0.628318530717959, -8.79645943005142,                0],\n",
       "[                0,                 0,                 0,                 0, -14.451326206513]])"
      ]
     },
     "execution_count": 32,
     "metadata": {},
     "output_type": "execute_result"
    }
   ],
   "source": [
    "sympy_hamiltonian[-5:, -5:]"
   ]
  },
  {
   "cell_type": "markdown",
   "metadata": {},
   "source": [
    "# Checking Answer with QuTip's Ready-Made Code:"
   ]
  },
  {
   "cell_type": "code",
   "execution_count": 9,
   "metadata": {},
   "outputs": [],
   "source": [
    "import numpy as np\n",
    "import matplotlib.pyplot as plt\n",
    "import scipy.ndimage as scipy\n",
    "import numpy.random as random\n",
    "import sympy as sym\n",
    "import qutip as qt\n",
    "from qutip import (about, basis, expect, mesolve, qeye, sigmax, sigmay, sigmaz,\n",
    "                   tensor)\n"
   ]
  },
  {
   "cell_type": "code",
   "execution_count": 13,
   "metadata": {},
   "outputs": [],
   "source": [
    "# Set the system parameters\n",
    "N = 5\n",
    "\n",
    "# initial state\n",
    "state_list = [basis(2, 1)] + [basis(2, 0)] * (N - 1)\n",
    "psi0 = tensor(state_list)\n",
    "\n",
    "# Energy splitting term\n",
    "h = 2 * np.pi * np.ones(N)\n",
    "\n",
    "# Interaction coefficients\n",
    "Jx = 0.2 * np.pi * np.ones(N)\n",
    "Jy = 0.2 * np.pi * np.ones(N)\n",
    "Jz = 0.2 * np.pi * np.ones(N)"
   ]
  },
  {
   "cell_type": "code",
   "execution_count": 14,
   "metadata": {},
   "outputs": [],
   "source": [
    "sx_list, sy_list, sz_list = [], [], []\n",
    "for i in range(N):\n",
    "    op_list = [qeye(2)] * N\n",
    "    op_list[i] = sigmax()\n",
    "    sx_list.append(tensor(op_list))\n",
    "    op_list[i] = sigmay()\n",
    "    sy_list.append(tensor(op_list))\n",
    "    op_list[i] = sigmaz()\n",
    "    sz_list.append(tensor(op_list))\n",
    "\n",
    "# Hamiltonian - Energy splitting terms\n",
    "H = 0\n",
    "for i in range(N):\n",
    "    H -= 0.5 * h[i] * sz_list[i]\n",
    "\n",
    "# Interaction terms\n",
    "for n in range(N - 1):\n",
    "    H += -0.5 * Jx[n] * sx_list[n] * sx_list[n + 1]\n",
    "    H += -0.5 * Jy[n] * sy_list[n] * sy_list[n + 1]\n",
    "    H += -0.5 * Jz[n] * sz_list[n] * sz_list[n + 1]"
   ]
  },
  {
   "cell_type": "code",
   "execution_count": 15,
   "metadata": {},
   "outputs": [
    {
     "data": {
      "text/latex": [
       "Quantum object: dims=[[2, 2, 2, 2, 2], [2, 2, 2, 2, 2]], shape=(32, 32), type='oper', dtype=CSR, isherm=True$$\\left(\\begin{array}{cc}-16.965 & 0 & 0 & 0 & 0 & \\cdots & 0 & 0 & 0 & 0 & 0\\\\0 & -10.053 & -0.628 & 0 & 0 & \\cdots & 0 & 0 & 0 & 0 & 0\\\\0 & -0.628 & -9.425 & 0 & -0.628 & \\cdots & 0 & 0 & 0 & 0 & 0\\\\0 & 0 & 0 & -3.770 & 0 & \\cdots & 0 & 0 & 0 & 0 & 0\\\\0 & 0 & -0.628 & 0 & -9.425 & \\cdots & 0 & 0 & 0 & 0 & 0\\\\\\vdots & \\vdots & \\vdots & \\vdots & \\vdots & \\ddots & \\vdots & \\vdots & \\vdots & \\vdots & \\vdots\\\\0 & 0 & 0 & 0 & 0 & \\cdots & 9.425 & 0 & -0.628 & 0 & 0\\\\0 & 0 & 0 & 0 & 0 & \\cdots & 0 & 2.513 & 0 & 0 & 0\\\\0 & 0 & 0 & 0 & 0 & \\cdots & -0.628 & 0 & 9.425 & -0.628 & 0\\\\0 & 0 & 0 & 0 & 0 & \\cdots & 0 & 0 & -0.628 & 8.796 & 0\\\\0 & 0 & 0 & 0 & 0 & \\cdots & 0 & 0 & 0 & 0 & 14.451\\end{array}\\right)$$"
      ],
      "text/plain": [
       "Quantum object: dims=[[2, 2, 2, 2, 2], [2, 2, 2, 2, 2]], shape=(32, 32), type='oper', dtype=CSR, isherm=True\n",
       "Qobj data =\n",
       "[[-16.96460033   0.           0.         ...   0.           0.\n",
       "    0.        ]\n",
       " [  0.         -10.05309649  -0.62831853 ...   0.           0.\n",
       "    0.        ]\n",
       " [  0.          -0.62831853  -9.42477796 ...   0.           0.\n",
       "    0.        ]\n",
       " ...\n",
       " [  0.           0.           0.         ...   9.42477796  -0.62831853\n",
       "    0.        ]\n",
       " [  0.           0.           0.         ...  -0.62831853   8.79645943\n",
       "    0.        ]\n",
       " [  0.           0.           0.         ...   0.           0.\n",
       "   14.45132621]]"
      ]
     },
     "execution_count": 15,
     "metadata": {},
     "output_type": "execute_result"
    }
   ],
   "source": [
    "H"
   ]
  },
  {
   "cell_type": "code",
   "execution_count": null,
   "metadata": {},
   "outputs": [],
   "source": []
  }
 ],
 "metadata": {
  "kernelspec": {
   "display_name": "qiskit1_env",
   "language": "python",
   "name": "python3"
  },
  "language_info": {
   "codemirror_mode": {
    "name": "ipython",
    "version": 3
   },
   "file_extension": ".py",
   "mimetype": "text/x-python",
   "name": "python",
   "nbconvert_exporter": "python",
   "pygments_lexer": "ipython3",
   "version": "3.12.4"
  }
 },
 "nbformat": 4,
 "nbformat_minor": 2
}
