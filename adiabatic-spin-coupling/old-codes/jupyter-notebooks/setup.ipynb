{
 "cells": [
  {
   "cell_type": "code",
   "execution_count": 1,
   "id": "cd36d395-53f1-4094-b7be-e0e6a019f4ad",
   "metadata": {},
   "outputs": [],
   "source": [
    "import qiskit"
   ]
  },
  {
   "cell_type": "code",
   "execution_count": 7,
   "id": "0c959b2f-4ed4-4455-b429-4f2849e77596",
   "metadata": {},
   "outputs": [
    {
     "ename": "ImportError",
     "evalue": "cannot import name 'QiskitRuntimeService' from 'qiskit_ibm_provider' (/home/matthew/Documents/research/msu/qiskit-env/lib/python3.11/site-packages/qiskit_ibm_provider/__init__.py)",
     "output_type": "error",
     "traceback": [
      "\u001b[0;31m---------------------------------------------------------------------------\u001b[0m",
      "\u001b[0;31mImportError\u001b[0m                               Traceback (most recent call last)",
      "Cell \u001b[0;32mIn[7], line 1\u001b[0m\n\u001b[0;32m----> 1\u001b[0m \u001b[38;5;28;01mfrom\u001b[39;00m \u001b[38;5;21;01mqiskit_ibm_provider\u001b[39;00m \u001b[38;5;28;01mimport\u001b[39;00m QiskitRuntimeService\n",
      "\u001b[0;31mImportError\u001b[0m: cannot import name 'QiskitRuntimeService' from 'qiskit_ibm_provider' (/home/matthew/Documents/research/msu/qiskit-env/lib/python3.11/site-packages/qiskit_ibm_provider/__init__.py)"
     ]
    }
   ],
   "source": [
    "from qiskit_ibm_provider import QiskitRuntimeService"
   ]
  },
  {
   "cell_type": "code",
   "execution_count": 6,
   "id": "9be44cd7-d38b-46ae-8f0f-9d0d40b5d390",
   "metadata": {},
   "outputs": [
    {
     "data": {
      "text/plain": [
       "'1.0.2'"
      ]
     },
     "execution_count": 6,
     "metadata": {},
     "output_type": "execute_result"
    }
   ],
   "source": [
    "qiskit.__version__"
   ]
  },
  {
   "cell_type": "code",
   "execution_count": 8,
   "id": "13d02db8-6776-4e47-8e18-8f9e3c02db0b",
   "metadata": {},
   "outputs": [
    {
     "ename": "NameError",
     "evalue": "name 'qiskit_ibm_provider' is not defined",
     "output_type": "error",
     "traceback": [
      "\u001b[0;31m---------------------------------------------------------------------------\u001b[0m",
      "\u001b[0;31mNameError\u001b[0m                                 Traceback (most recent call last)",
      "Cell \u001b[0;32mIn[8], line 1\u001b[0m\n\u001b[0;32m----> 1\u001b[0m \u001b[43mqiskit_ibm_provider\u001b[49m\u001b[38;5;241m.\u001b[39m__version__\n",
      "\u001b[0;31mNameError\u001b[0m: name 'qiskit_ibm_provider' is not defined"
     ]
    }
   ],
   "source": [
    "qiskit_ibm_provider.__version__\n"
   ]
  },
  {
   "cell_type": "code",
   "execution_count": 9,
   "id": "c330cf08-5d00-42a8-8549-1f3065a6f7c8",
   "metadata": {},
   "outputs": [],
   "source": [
    "import qiskit_ibm_provider"
   ]
  },
  {
   "cell_type": "code",
   "execution_count": 10,
   "id": "a8be8777-e5e2-4e78-b570-f182eaf879ea",
   "metadata": {},
   "outputs": [
    {
     "data": {
      "text/plain": [
       "'0.11.0'"
      ]
     },
     "execution_count": 10,
     "metadata": {},
     "output_type": "execute_result"
    }
   ],
   "source": [
    "qiskit_ibm_provider.__version__"
   ]
  },
  {
   "cell_type": "code",
   "execution_count": 11,
   "id": "b7c4ab5f-a13c-4bcc-a319-b5707f53c455",
   "metadata": {},
   "outputs": [],
   "source": [
    "from qiskit_ibm_runtime import QiskitRuntimeService\n"
   ]
  },
  {
   "cell_type": "code",
   "execution_count": 13,
   "id": "f81a88e5-209c-452f-8766-abedf1a972da",
   "metadata": {},
   "outputs": [],
   "source": [
    "service = QiskitRuntimeService(channel=\"ibm_quantum\",\n",
    "                              token=\"486bc1c0e282a6a569a1e9e996dd081b83a7abd6ba70554e9d0b6c79627554a50e555b1b6ec2762af0c2c5bba07690612712e4656d77880b77bed579f695d3c9\")"
   ]
  },
  {
   "cell_type": "code",
   "execution_count": 14,
   "id": "31eaa70a-a3bb-406c-941e-c036be4bcf42",
   "metadata": {},
   "outputs": [],
   "source": [
    "QiskitRuntimeService.save_account(channel=\"ibm_quantum\",token=\"486bc1c0e282a6a569a1e9e996dd081b83a7abd6ba70554e9d0b6c79627554a50e555b1b6ec2762af0c2c5bba07690612712e4656d77880b77bed579f695d3c9\")"
   ]
  },
  {
   "cell_type": "code",
   "execution_count": null,
   "id": "3012bbda-cf21-4fa8-ba98-ed1c833de444",
   "metadata": {},
   "outputs": [],
   "source": []
  }
 ],
 "metadata": {
  "kernelspec": {
   "display_name": "Python 3 (ipykernel)",
   "language": "python",
   "name": "python3"
  },
  "language_info": {
   "codemirror_mode": {
    "name": "ipython",
    "version": 3
   },
   "file_extension": ".py",
   "mimetype": "text/x-python",
   "name": "python",
   "nbconvert_exporter": "python",
   "pygments_lexer": "ipython3",
   "version": "3.11.9"
  }
 },
 "nbformat": 4,
 "nbformat_minor": 5
}
