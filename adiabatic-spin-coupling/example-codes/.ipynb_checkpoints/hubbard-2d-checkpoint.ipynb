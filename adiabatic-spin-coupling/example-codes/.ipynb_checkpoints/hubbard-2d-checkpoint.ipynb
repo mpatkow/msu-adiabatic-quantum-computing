{
 "cells": [
  {
   "cell_type": "code",
   "execution_count": 1,
   "metadata": {},
   "outputs": [
    {
     "name": "stderr",
     "output_type": "stream",
     "text": [
      "/usr/local/lib/python3.9/dist-packages/tenpy/tools/optimization.py:289: UserWarning: Couldn't load compiled cython code. Code will run a bit slower.\n",
      "  warnings.warn(\"Couldn't load compiled cython code. Code will run a bit slower.\")\n"
     ]
    }
   ],
   "source": [
    "import numpy as np\n",
    "import matplotlib.pyplot as plt\n",
    "\n",
    "from tenpy.models.lattice import Square\n",
    "from tenpy.networks.site import SpinHalfFermionSite\n",
    "from tenpy.networks.mps import MPS\n",
    "from tenpy.models.model import CouplingMPOModel\n",
    "from tenpy.models.hubbard import FermiHubbardModel\n",
    "from tenpy.algorithms import dmrg"
   ]
  },
  {
   "cell_type": "code",
   "execution_count": 2,
   "metadata": {},
   "outputs": [],
   "source": [
    "class FermiHubbardSquare(CouplingMPOModel):\n",
    "  \n",
    "  def init_lattice(self, model_params):\n",
    "    L = model_params.get('L', 1)\n",
    "    \n",
    "    site = SpinHalfFermionSite()\n",
    "    lattice = Square(L, L, site, bc = \"open\")\n",
    "    \n",
    "    return lattice\n",
    "\n",
    "  def init_terms(self, model_params):\n",
    "    L = model_params.get('L', 1)\n",
    "    t = model_params.get('t', 1.0)\n",
    "    \n",
    "    U = model_params.get('U', 0.0)\n",
    "    mu = model_params.get('mu', 0.0)\n",
    "\n",
    "    for u in range(len(self.lat.unit_cell)):\n",
    "      print(\"Adding onsite term:\", u)\n",
    "      self.add_onsite(-mu, u, 'Ntot')\n",
    "      self.add_onsite(U, u, 'NuNd')\n",
    "    \n",
    "    for u1, u2, dx in self.lat.pairs['nearest_neighbors']:\n",
    "      print(\"Adding coupling term:\", u1, u2, dx)\n",
    "      self.add_coupling(-t, u1, 'Cdu', u2, 'Cu', dx, plus_hc = True)\n",
    "      self.add_coupling(-t, u1, 'Cdd', u2, 'Cd', dx, plus_hc = True)\n",
    "      \n",
    "  def show(self):\n",
    "    print(\"Boundary:\", self.lat.boundary_conditions)\n",
    "    \n",
    "    plt.figure(figsize = (6, 6))\n",
    "    \n",
    "    ax = plt.gca()\n",
    "    \n",
    "    self.lat.plot_coupling(ax)\n",
    "    self.lat.plot_order(ax, linestyle = ':')\n",
    "    self.lat.plot_sites(ax)\n",
    "    \n",
    "    plt.show()"
   ]
  },
  {
   "cell_type": "code",
   "execution_count": 3,
   "metadata": {},
   "outputs": [],
   "source": [
    "def make_state(M, pairs):\n",
    "  N = len(M.lat.mps_sites())\n",
    "  \n",
    "  # NOTE: This is not likely a very good initial guess!\n",
    "  \n",
    "  state = ['full' for i in range(pairs)] + ['empty' for i in range(N - pairs)]\n",
    "\n",
    "  psi = MPS.from_product_state(\n",
    "    M.lat.mps_sites(),\n",
    "    state,\n",
    "    bc = M.lat.bc_MPS\n",
    "  )\n",
    "  \n",
    "  return psi"
   ]
  },
  {
   "cell_type": "code",
   "execution_count": 4,
   "metadata": {},
   "outputs": [
    {
     "name": "stdout",
     "output_type": "stream",
     "text": [
      "Adding onsite term: 0\n",
      "Adding coupling term: 0 0 [1 0]\n",
      "Adding coupling term: 0 0 [0 1]\n",
      "Boundary: ['open', 'open']\n"
     ]
    },
    {
     "data": {
      "image/png": "[encoded data removed]",
      "text/plain": [
       "<Figure size 432x432 with 1 Axes>"
      ]
     },
     "metadata": {
      "needs_background": "light"
     },
     "output_type": "display_data"
    },
    {
     "name": "stdout",
     "output_type": "stream",
     "text": [
      "E = 2.3303737490563\n"
     ]
    },
    {
     "name": "stderr",
     "output_type": "stream",
     "text": [
      "/usr/local/lib/python3.9/dist-packages/tenpy/algorithms/dmrg.py:420: UserWarning: final DMRG state not in canonical form within `norm_tol` = 1.00e-05\n",
      "  warnings.warn(msg.format(nt=norm_tol))\n"
     ]
    }
   ],
   "source": [
    "# 3 pairs on a 3x3 lattice\n",
    "\n",
    "model_params = dict(\n",
    "  L = 3,\n",
    "  t = 1,\n",
    "  mu = -2,\n",
    "  U = 2,\n",
    "  verbose = False\n",
    ")\n",
    "\n",
    "M = FermiHubbardSquare(model_params)\n",
    "\n",
    "M.show()\n",
    "\n",
    "dmrg_params = {\n",
    "  'mixer': True,\n",
    "  'trunc_params': {\n",
    "    'chi_max': 100,\n",
    "    'svd_min': 1.0e-10,\n",
    "  },\n",
    "  'max_E_err': 1.0e-10,\n",
    "  'verbose': False,\n",
    "}\n",
    "\n",
    "psi = make_state(M, 3)\n",
    "\n",
    "info = dmrg.run(psi, M, dmrg_params)\n",
    "\n",
    "E = info['E']\n",
    "\n",
    "print(\"E = {E:.13f}\".format(E = E))"
   ]
  },
  {
   "cell_type": "code",
   "execution_count": null,
   "metadata": {},
   "outputs": [],
   "source": []
  }
 ],
 "metadata": {
  "kernelspec": {
   "display_name": "Python 3",
   "language": "python",
   "name": "python3"
  },
  "language_info": {
   "codemirror_mode": {
    "name": "ipython",
    "version": 3
   },
   "file_extension": ".py",
   "mimetype": "text/x-python",
   "name": "python",
   "nbconvert_exporter": "python",
   "pygments_lexer": "ipython3",
   "version": "3.9.1+"
  }
 },
 "nbformat": 4,
 "nbformat_minor": 4
}
